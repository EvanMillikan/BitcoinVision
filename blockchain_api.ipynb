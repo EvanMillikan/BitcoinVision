{
 "cells": [
  {
   "cell_type": "code",
   "execution_count": 1,
   "metadata": {},
   "outputs": [],
   "source": [
    "import pandas as pd"
   ]
  },
  {
   "cell_type": "code",
   "execution_count": 2,
   "metadata": {},
   "outputs": [],
   "source": [
    "def get_block_details(dir='./'):\n",
    "    '''\n",
    "        A function to get block_details data from https://www.blockchain.com/ charts API\n",
    "        \n",
    "        Reminder:\n",
    "        n-payments-per-block:   Data Starts at 2018, current project demand data starts from 2011-12-31\n",
    "        avg-confirmation-time:  Data start at 2016, Current project demand data starts from 2011-12-31\n",
    "    '''\n",
    "    \n",
    "    block_details_dict = {\n",
    "        'https://api.blockchain.info/charts/blocks-size?timespan=all&start=2011-12-31&format=csv&sampled=false':['Timestamp','blocks-size'],\n",
    "        'https://api.blockchain.info/charts/avg-block-size?timespan=all&start=2011-12-31&format=csv&sampled=false':['Timestamp','avg-block-size'],\n",
    "        'https://api.blockchain.info/charts/n-transactions-per-block?timespan=all&start=2011-12-31&format=csv&sampled=false':['Timestamp','n-transactions-per-block'],\n",
    "        #'https://api.blockchain.info/charts/n-payments-per-block?timespan=all&start=2011-12-31&format=csv&sampled=false':['Timestamp','n-payments-per-block'],\n",
    "        'https://api.blockchain.info/charts/n-transactions-total?timespan=all&start=2011-12-31&format=csv&sampled=false':['Timestamp','n-transactions-total'],\n",
    "        'https://api.blockchain.info/charts/median-confirmation-time?timespan=all&start=2011-12-31&format=csv&sampled=false':['Timestamp','median-confirmation-time'],\n",
    "        #'https://api.blockchain.info/charts/avg-confirmation-time?timespan=all&start=2011-12-31&format=csv&sampled=false':['Timestamp','avg-confirmation-time']\n",
    "    }\n",
    "    \n",
    "    for key in block_details_dict:\n",
    "        df = pd.read_csv(key, names=block_details_dict[key])\n",
    "        df.to_csv(f'{dir}{block_details_dict[key][1]}', index=False)\n",
    "    \n",
    "    print(\"Get All Block Details Data Complete\")"
   ]
  },
  {
   "cell_type": "code",
   "execution_count": 3,
   "metadata": {},
   "outputs": [],
   "source": [
    "def get_market_signals(dir='./'):\n",
    "    '''\n",
    "        A function to get market_signals data from https://www.blockchain.com/ charts API\n",
    "    '''\n",
    "    market_signals_dict = {\n",
    "       'https://api.blockchain.info/charts/mvrv?timespan=all&start=2011-12-31&format=csv&sampled=false&metadata=false':['Timestamp','mvrv'],\n",
    "       'https://api.blockchain.info/charts/nvt?timespan=all&start=2011-12-31&format=csv&sampled=false&metadata=false':['Timestamp','nvt'],\n",
    "       'https://api.blockchain.info/charts/nvts?timespan=all&start=2011-12-31&format=csv&sampled=false&metadata=false':['Timestamp','nvts'],\n",
    "    }\n",
    "    for key in market_signals_dict:\n",
    "        df = pd.read_csv(key, names=market_signals_dict[key])\n",
    "        df.to_csv(f'{dir}{market_signals_dict[key][1]}', index=False)\n",
    "        \n",
    "    print(\"Get All Market Signals Data Complete\")"
   ]
  },
  {
   "cell_type": "code",
   "execution_count": 4,
   "metadata": {},
   "outputs": [],
   "source": [
    "def get_mining_information(dir='./'):\n",
    "    '''\n",
    "        A function to get mining_information data from https://www.blockchain.com/ charts API\n",
    "    '''\n",
    "    \n",
    "    mining_information_dict = {\n",
    "        'https://api.blockchain.info/charts/hash-rate?timespan=all&start=2011-12-31&format=csv&sampled=false':['Timestamp','hash-rate'],\n",
    "        'https://api.blockchain.info/charts/difficulty?timespan=all&start=2011-12-31&format=csv&sampled=false':['Timestamp','difficulty'],\n",
    "        'https://api.blockchain.info/charts/miners-revenue?timespan=all&start=2011-12-31&format=csv&sampled=false':['Timestamp','miners-revenue'],\n",
    "        'https://api.blockchain.info/charts/transaction-fees?timespan=all&start=2011-12-31&format=csv&sampled=false':['Timestamp','transaction-fees'],\n",
    "        'https://api.blockchain.info/charts/transaction-fees-usd?timespan=all&start=2011-12-31&format=csv&sampled=false':['Timestamp','transaction-fees-usd'],\n",
    "        'https://api.blockchain.info/charts/fees-usd-per-transaction?timespan=all&start=2011-12-31&format=csv&sampled=false&metadata=false':['Timestamp','fees-usd-per-transaction'],\n",
    "        'https://api.blockchain.info/charts/cost-per-transaction-percent?timespan=all&start=2011-12-31&format=csv&sampled=false':['Timestamp','cost-per-transaction-percent'],\n",
    "        'https://api.blockchain.info/charts/cost-per-transaction?timespan=all&start=2011-12-31&format=csv&sampled=false':['Timestamp','cost-per-transaction'],\n",
    "    }\n",
    "    \n",
    "    for key in mining_information_dict:\n",
    "        df = pd.read_csv(key, names=mining_information_dict[key])\n",
    "        df.to_csv(f'{dir}{mining_information_dict[key][1]}', index=False)\n",
    "    print(\"Get All Mining Information Data Complete\")"
   ]
  },
  {
   "cell_type": "code",
   "execution_count": 5,
   "metadata": {},
   "outputs": [],
   "source": [
    "def get_network_activity(dir='./'):\n",
    "    '''\n",
    "        A function to get network_activity data from https://www.blockchain.com/ charts API\n",
    "        \n",
    "        Reminder:\n",
    "        n-payments: Data starts at 2018, Current project demand starts from 2011-12-31\n",
    "        transaction-per-second: Data starts at 2016, Current project demand starts from 2011-12-31\n",
    "        mempool-count:  Data starts at 2016, Current project demand data starts from 2011-12-31\n",
    "        mempool-growth: Data starts at 2016, Current project demand data starts from 2011-12-31\n",
    "        mempool-size:   Data starts at 2016, Current project demand data starts from 2011-12-31\n",
    "    '''\n",
    "    \n",
    "    network_activity_dict = {\n",
    "        'https://api.blockchain.info/charts/n-unique-addresses?timespan=all&start=2011-12-31&format=csv&sampled=false':['Timestamp','n-unique-addresses'],\n",
    "        'https://api.blockchain.info/charts/n-transactions?timespan=all&start=2011-12-31&format=csv&sampled=false':['Timestamp','n-transactions'],\n",
    "        #'https://api.blockchain.info/charts/n-payments?timespan=all&start=2011-12-31&format=csv&sampled=false&metadata=false':['Timestamp','n-payments'], \n",
    "        #'https://api.blockchain.info/charts/transactions-per-second?timespan=all&start=2011-12-31&format=csv&sampled=false':['Timestamp','transactions-per-second'],\n",
    "        'https://api.blockchain.info/charts/output-volume?timespan=all&start=2011-12-31&format=csv&sampled=false':['Timestamp','output-volume'],\n",
    "        #'https://api.blockchain.info/charts/mempool-count?timespan=all&start=2011-12-31&format=csv&sampled=false':['Timestamp','mempool-count'],\n",
    "        #'https://api.blockchain.info/charts/mempool-growth?timespan=all&start=2011-12-31&format=csv&sampled=false':['Timestamp','mempool-growth'],\n",
    "        #'https://api.blockchain.info/charts/mempool-size?timespan=all&start=2011-12-31&format=csv&sampled=false':['Timestamp','mempool-size'],\n",
    "        'https://api.blockchain.info/charts/n-transactions-excluding-popular?timespan=all&start=2011-12-31&format=csv&sampled=false':['Timestamp','n-transactions-excluding-popular'],\n",
    "        'https://api.blockchain.info/charts/estimated-transaction-volume?timespan=all&start=2011-12-31&format=csv&sampled=false':['Timestamp','estimated-transaction-volume'],\n",
    "        'https://api.blockchain.info/charts/estimated-transaction-volume-usd?timespan=all&start=2011-12-31&format=csv&sampled=false':['Timestamp','estimated-transaction-volume-usd'],\n",
    "    }\n",
    "    \n",
    "    for key in network_activity_dict:\n",
    "        df = pd.read_csv(key, names=network_activity_dict[key])\n",
    "        df.to_csv(f'{dir}{network_activity_dict[key][1]}', index=False)\n",
    "        \n",
    "    print(\"Get All Network Activity Data Complete\")"
   ]
  },
  {
   "cell_type": "code",
   "execution_count": 6,
   "metadata": {},
   "outputs": [],
   "source": [
    "def get_wallet_activity(dir='./'):\n",
    "    '''\n",
    "        A function to get wallet_activity data from https://www.blockchain.com/ charts API\n",
    "    '''\n",
    "\n",
    "    wallet_activity_dict = {\n",
    "        'https://api.blockchain.info/charts/my-wallet-n-users?timespan=all&start=2011-12-30&format=csv&sampled=false':['Timestamp','my-wallet-n-users'],\n",
    "    }\n",
    "    \n",
    "    for key in wallet_activity_dict:\n",
    "        df = pd.read_csv(key, names=wallet_activity_dict[key])\n",
    "        df.to_csv(f'{dir}{wallet_activity_dict[key][1]}', index=False)\n",
    "    print(\"Get All Wallet Activity Data Complete\")"
   ]
  }
 ],
 "metadata": {
  "kernelspec": {
   "display_name": "Python 3",
   "language": "python",
   "name": "python3"
  },
  "language_info": {
   "codemirror_mode": {
    "name": "ipython",
    "version": 3
   },
   "file_extension": ".py",
   "mimetype": "text/x-python",
   "name": "python",
   "nbconvert_exporter": "python",
   "pygments_lexer": "ipython3",
   "version": "3.7.6"
  }
 },
 "nbformat": 4,
 "nbformat_minor": 4
}
